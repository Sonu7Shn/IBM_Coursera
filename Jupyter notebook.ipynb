{
    "cells": [
        {
            "metadata": {},
            "cell_type": "code",
            "source": "\nimport os, types\nimport pandas as pd\nfrom botocore.client import Config\nimport ibm_boto3\n\ndef __iter__(self): return 0\n\n# @hidden_cell\n# The following code accesses a file in your IBM Cloud Object Storage. It includes your credentials.\n# You might want to remove those credentials before you share the notebook.\n\nif os.environ.get('RUNTIME_ENV_LOCATION_TYPE') == 'external':\n    endpoint_bc42780ceac04b759965b138e74966a6 = 'https://s3.ap.cloud-object-storage.appdomain.cloud'\nelse:\n    endpoint_bc42780ceac04b759965b138e74966a6 = 'https://s3.private.ap.cloud-object-storage.appdomain.cloud'\n\nclient_bc42780ceac04b759965b138e74966a6 = ibm_boto3.client(service_name='s3',\n    ibm_api_key_id='g1eWxLFd8nbNePskCv9ka4fWoP8gt_xoXcHc3ckCqZjh',\n    ibm_auth_endpoint=\"https://iam.cloud.ibm.com/oidc/token\",\n    config=Config(signature_version='oauth'),\n    endpoint_url=endpoint_bc42780ceac04b759965b138e74966a6)\n\nbody = client_bc42780ceac04b759965b138e74966a6.get_object(Bucket='demoproject-donotdelete-pr-xok2eujamwqj4l',Key='COVID-19.xlsx')['Body']\n\ndf_data_0 = pd.read_excel(body.read())\ndf_data_0.head()\n",
            "execution_count": 1,
            "outputs": [
                {
                    "output_type": "execute_result",
                    "execution_count": 1,
                    "data": {
                        "text/plain": "        State/UTs  Total Cases  Active  Discharged  Deaths  Active Ratio (%)  \\\n0     Maharashtra      6214190  106809     5980350  127031              1.72   \n1          Kerala      3160937  125535     3020052   15350              3.97   \n2       Karnataka      2883947   29314     2818476   36157              1.02   \n3      Tamil Nadu      2535402   27897     2473781   33724              1.10   \n4  Andhra Pradesh      1940096   24708     1902256   13132              1.27   \n\n   Discharge Ratio (%)  Death Ratio (%)  \n0                96.24             2.04  \n1                95.54             0.49  \n2                97.73             1.25  \n3                97.57             1.33  \n4                98.05             0.68  ",
                        "text/html": "<div>\n<style scoped>\n    .dataframe tbody tr th:only-of-type {\n        vertical-align: middle;\n    }\n\n    .dataframe tbody tr th {\n        vertical-align: top;\n    }\n\n    .dataframe thead th {\n        text-align: right;\n    }\n</style>\n<table border=\"1\" class=\"dataframe\">\n  <thead>\n    <tr style=\"text-align: right;\">\n      <th></th>\n      <th>State/UTs</th>\n      <th>Total Cases</th>\n      <th>Active</th>\n      <th>Discharged</th>\n      <th>Deaths</th>\n      <th>Active Ratio (%)</th>\n      <th>Discharge Ratio (%)</th>\n      <th>Death Ratio (%)</th>\n    </tr>\n  </thead>\n  <tbody>\n    <tr>\n      <th>0</th>\n      <td>Maharashtra</td>\n      <td>6214190</td>\n      <td>106809</td>\n      <td>5980350</td>\n      <td>127031</td>\n      <td>1.72</td>\n      <td>96.24</td>\n      <td>2.04</td>\n    </tr>\n    <tr>\n      <th>1</th>\n      <td>Kerala</td>\n      <td>3160937</td>\n      <td>125535</td>\n      <td>3020052</td>\n      <td>15350</td>\n      <td>3.97</td>\n      <td>95.54</td>\n      <td>0.49</td>\n    </tr>\n    <tr>\n      <th>2</th>\n      <td>Karnataka</td>\n      <td>2883947</td>\n      <td>29314</td>\n      <td>2818476</td>\n      <td>36157</td>\n      <td>1.02</td>\n      <td>97.73</td>\n      <td>1.25</td>\n    </tr>\n    <tr>\n      <th>3</th>\n      <td>Tamil Nadu</td>\n      <td>2535402</td>\n      <td>27897</td>\n      <td>2473781</td>\n      <td>33724</td>\n      <td>1.10</td>\n      <td>97.57</td>\n      <td>1.33</td>\n    </tr>\n    <tr>\n      <th>4</th>\n      <td>Andhra Pradesh</td>\n      <td>1940096</td>\n      <td>24708</td>\n      <td>1902256</td>\n      <td>13132</td>\n      <td>1.27</td>\n      <td>98.05</td>\n      <td>0.68</td>\n    </tr>\n  </tbody>\n</table>\n</div>"
                    },
                    "metadata": {}
                }
            ]
        },
        {
            "metadata": {},
            "cell_type": "code",
            "source": "",
            "execution_count": null,
            "outputs": []
        }
    ],
    "metadata": {
        "kernelspec": {
            "name": "python3",
            "display_name": "Python 3.8",
            "language": "python"
        },
        "language_info": {
            "name": "python",
            "version": "3.8.11",
            "mimetype": "text/x-python",
            "codemirror_mode": {
                "name": "ipython",
                "version": 3
            },
            "pygments_lexer": "ipython3",
            "nbconvert_exporter": "python",
            "file_extension": ".py"
        }
    },
    "nbformat": 4,
    "nbformat_minor": 1
}